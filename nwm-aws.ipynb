{
 "cells": [
  {
   "cell_type": "markdown",
   "id": "75688ac6-879d-4449-b73e-74f03a5f991f",
   "metadata": {
    "tags": []
   },
   "source": [
    "# flox: Faster GroupBy aggregations with Xarray\n",
    "\n",
    "**Authors** Deepak Cherian, Kevin Sampson, Matthew Rocklin\n",
    "\n",
    "Significantly faster groupby calculations are now possible through a new-ish package in the Xarray/Dask/Pangeo ecosystem called [flox](https://flox.readthedocs.io/en/latest/). Practically, this means faster climatologies, faster resampling, faster histogramming, and faster compositing of array datasets.\n",
    "\n",
    "\n",
    "## The National Water Model Dataset\n",
    "\n",
    "\n",
    "To show off, we demonstrate county-wise aggregation of output from the National Water Model (NWM) available on the [AWS Public Data Registry](https://registry.opendata.aws/nwm-archive/).\n",
    "\n",
    "\n",
    "Quoting [the NOAA page](https://water.noaa.gov/about/nwm) for more.\n",
    "\n",
    "> The National Water Model (NWM) is a hydrologic modelling framework that simulates observed and forecast streamflow over the entire continental United States (CONUS). The NWM simulates the water cycle with mathematical representations of the different processes and how they fit together. This complex representation of physical processes such as snowmelt and infiltration and movement of water through the soil layers varies significantly with changing elevations, soils, vegetation types and a host of other variables. Additionally, extreme variability in precipitation over short distances and times can cause the response on rivers and streams to change very quickly. Overall, the process is so complex that to simulate it with a mathematical model means that it needs a very high powered computer or supercomputer in order to run in the time frame needed to support decision makers when flooding is threatened.  \n",
    "\n",
    "> All CONUS model configurations provide streamflow for 2.7 million river reaches and other hydrologic information on 1km and 250m grids.\n",
    "\n",
    "\n",
    "\n",
    "## Problem description\n",
    "\n",
    "We want to calculate county-level means for 3 hourly time series data on the 250m grid. This is a *Groupby* problem. \n",
    "\n",
    "GroupBy is a term used for a very common analysis pattern commonly called \"split-apply-combine\" ([Wickham, 2011](https://www.jstatsoft.org/article/view/v040i01)) wherein an analyst \n",
    "- *Splits* a dataset into groups (e.g. counties),\n",
    "- *Applies* a transformation to each group of data (here a reduction like `.mean`)\n",
    "- *Combines* the results of `apply` to form a new dataset\n",
    "\n",
    "\n",
    "For this problem we will split the dataset into counties, apply the `mean`, and then combine the results back.\n",
    "\n",
    "With [Xarray](https://docs.xarray.dev/en/stable/user-guide/groupby.html), this would look like\n",
    "```python\n",
    "dataset.groupby(counties).mean()\n",
    "```\n",
    "\n",
    "However Xarray's default algorithm is a simple for-loop over groups and doesn't work very well for large distributed problems.\n",
    "\n",
    "## Enter `flox`.\n",
    "\n",
    "`flox` solves a long-standing problem in the Pangeo array computing ecosytem of computing GroupBy reductions. It implements a parallel groupby algorithm (using a tree reduction) to substantially improve performance of groupby reductions with dask. \n",
    "  - Specifically, `flox` speeds up [reduction methods](https://flox.readthedocs.io/en/latest/aggregations.html) like `groupby(...).mean()`, `groupby(...).max()`, etc, but not `groupby.map`.\n",
    "  - `flox` also significantly speeds up groupby reductions with pure numpy arrays using optimized implementations in the [`numpy-groupies` package](https://github.com/ml31415/numpy-groupies).\n",
    "  - `flox` allows more complicated groupby operations such as lazy grouping by a dask array, and grouping by multiple variables. Use `flox.xarray.xarray_reduce` for [these operations](https://flox.readthedocs.io/en/latest/xarray.html). Xarray currently only supports grouping by a single numpy variable.\n",
    "\n",
    "See [here](https://flox.readthedocs.io/en/latest/intro.html) for short examples.\n",
    "\n",
    "### How do I use it?\n",
    "\n",
    "Run `mamba install flox` and `xarray>=2022.06.0` will use it by default for `.groupby`, `.groupby_bins`, and `.resample`!\n",
    "\n",
    "A lot of effort was spent in ensuring backwards compatibility, so your workloads should only work better. Let us know if it [does not](https://github.com/pydata/xarray/issues)\n"
   ]
  },
  {
   "cell_type": "markdown",
   "id": "5dd71599-465f-4c97-baaa-19d900d2a070",
   "metadata": {
    "tags": []
   },
   "source": [
    "## Setup cluster with Coiled\n",
    "\n",
    "To demonstrate calculation on a cloud-available dataset, we will use [Coiled](https://coiled.io) to set up a dask cluster in AWS `us-east-1`."
   ]
  },
  {
   "cell_type": "code",
   "execution_count": null,
   "id": "60b08a1c-d042-40f2-aaaa-e7665ca85d64",
   "metadata": {
    "tags": []
   },
   "outputs": [],
   "source": [
    "import coiled\n",
    "\n",
    "cluster = coiled.Cluster(\n",
    "    region=\"us-east-1\",\n",
    "    n_workers=40,\n",
    ")\n",
    "\n",
    "client = cluster.get_client()"
   ]
  },
  {
   "cell_type": "markdown",
   "id": "5af5be54-9acb-43d6-be1b-ceea792659d4",
   "metadata": {
    "tags": []
   },
   "source": [
    "## Setup"
   ]
  },
  {
   "cell_type": "code",
   "execution_count": null,
   "id": "a66182dd-9f80-42ab-a0f3-8c02d70b08b9",
   "metadata": {
    "tags": []
   },
   "outputs": [],
   "source": [
    "%load_ext watermark\n",
    "\n",
    "import flox  # make sure its available\n",
    "import fsspec\n",
    "import numpy as np\n",
    "import rioxarray\n",
    "import xarray as xr\n",
    "\n",
    "xr.set_options(\n",
    "    display_expand_attrs=False,\n",
    "    display_expand_coords=False,\n",
    "    display_expand_data=True,\n",
    ")\n",
    "\n",
    "%watermark -iv"
   ]
  },
  {
   "cell_type": "markdown",
   "id": "8185966d-6659-482b-bcbb-826b8f30b1e3",
   "metadata": {},
   "source": [
    "## Load NWM data"
   ]
  },
  {
   "cell_type": "code",
   "execution_count": null,
   "id": "e8b1749a-0d64-4278-823c-892120bf1a5b",
   "metadata": {
    "tags": []
   },
   "outputs": [],
   "source": [
    "ds = xr.open_zarr(\n",
    "    fsspec.get_mapper(\"s3://noaa-nwm-retrospective-2-1-zarr-pds/rtout.zarr\", anon=True),\n",
    "    consolidated=True,\n",
    ")\n",
    "ds"
   ]
  },
  {
   "cell_type": "markdown",
   "id": "c7d5631a-0974-48fe-a2dc-4cbeb5654838",
   "metadata": {},
   "source": [
    "Each field in this dataset is big!"
   ]
  },
  {
   "cell_type": "code",
   "execution_count": null,
   "id": "41fd51a5-858f-4c43-926f-e212e6d3dd7b",
   "metadata": {
    "tags": []
   },
   "outputs": [],
   "source": [
    "ds.zwattablrt"
   ]
  },
  {
   "cell_type": "markdown",
   "id": "9d70429a-ad29-46c1-80e5-5b15b8012b47",
   "metadata": {
    "tags": []
   },
   "source": [
    "We'll subset to a single year subset for demo purposes"
   ]
  },
  {
   "cell_type": "code",
   "execution_count": null,
   "id": "2a6fb91d-6a02-4afc-8d8a-ec3529f805f4",
   "metadata": {
    "tags": []
   },
   "outputs": [],
   "source": [
    "subset = ds.zwattablrt.sel(time=slice(\"2001-01-01\", \"2020-12-31\"))\n",
    "subset"
   ]
  },
  {
   "cell_type": "markdown",
   "id": "10701b9e-3607-4734-9a14-094cebc3c26e",
   "metadata": {},
   "source": [
    "## Load county raster for grouping\n",
    "\n",
    "A raster TIFF file identifying counties by a unique integer was created separately and saved. \n",
    "\n",
    "We load that using [rioxarray](https://corteva.github.io/rioxarray/html/rioxarray.html)"
   ]
  },
  {
   "cell_type": "code",
   "execution_count": null,
   "id": "50c13d54-7bad-4864-92da-aa7c5b2b35d6",
   "metadata": {},
   "outputs": [],
   "source": [
    "import fsspec\n",
    "import rioxarray\n",
    "\n",
    "fs = fsspec.filesystem(\"s3\", requester_pays=True)\n",
    "\n",
    "counties = rioxarray.open_rasterio(\n",
    "    fs.open(\"s3://nwm-250m-us-counties/Counties_on_250m_grid.tif\"), chunks=\"auto\"\n",
    ").squeeze()\n",
    "counties\n",
    "\n",
    "# remove any small floating point error in coordinate locations\n",
    "_, counties_aligned = xr.align(ds, counties, join=\"override\")\n",
    "\n",
    "counties_aligned"
   ]
  },
  {
   "cell_type": "markdown",
   "id": "2b3f28f8-8548-4bbc-ab64-e5efaf21bf3c",
   "metadata": {},
   "source": [
    "We'll need the unique county IDs later, calculate that now."
   ]
  },
  {
   "cell_type": "code",
   "execution_count": null,
   "id": "ae3b2fab-b576-41a7-b0ec-2f37aba924bd",
   "metadata": {
    "tags": []
   },
   "outputs": [],
   "source": [
    "county_id = np.unique(counties_aligned.data).compute()\n",
    "county_id = county_id[county_id != 0]\n",
    "print(f\"There are {len(county_id)} counties!\")"
   ]
  },
  {
   "cell_type": "markdown",
   "id": "0a2b5ebe-d01a-46b4-b0c5-ce1052af4a4c",
   "metadata": {},
   "source": [
    "## GroupBy with flox\n",
    "\n",
    "We could run the computation as\n",
    "\n",
    "```python\n",
    "subset.groupby(counties_aligned).mean()\n",
    "```\n",
    "\n",
    "This would use flox in the background.\n",
    "\n",
    "However it would also load `counties_aligned` in to memory (an unfortunate Xarray implementation detail) which is not so bad (only a gig). To avoid egress charges, we'll instead go through `flox.xarray` which allows you to lazily groupby a dask array (here `counties_aligned`) as long as you pass in the expected group labels in `expected_groups`.\n",
    "\n",
    "See [here](https://flox.readthedocs.io/en/latest/intro.html#with-dask) for more."
   ]
  },
  {
   "cell_type": "code",
   "execution_count": null,
   "id": "65939337-28f0-4d26-90e5-91ab372cee3e",
   "metadata": {
    "tags": []
   },
   "outputs": [],
   "source": [
    "import flox.xarray\n",
    "\n",
    "county_mean = flox.xarray.xarray_reduce(\n",
    "    subset,\n",
    "    counties_aligned.rename(\"county\"),\n",
    "    func=\"mean\",\n",
    "    expected_groups=(county_id,),\n",
    ")\n",
    "\n",
    "county_mean"
   ]
  },
  {
   "cell_type": "code",
   "execution_count": null,
   "id": "e35efab0-9783-43e6-ab70-bb50a27629ec",
   "metadata": {
    "tags": []
   },
   "outputs": [],
   "source": [
    "county_mean.load()"
   ]
  },
  {
   "cell_type": "markdown",
   "id": "a315a717-1219-44b9-8431-b29b3580ffec",
   "metadata": {},
   "source": [
    "The computation proceeds very nicely. \n",
    "\n",
    "We don't anticipate trouble scaling this computation up to the full dataset."
   ]
  },
  {
   "cell_type": "markdown",
   "id": "f0e9079e-5aac-4ac2-9440-0b520f0cac76",
   "metadata": {},
   "source": [
    "## Cleanup"
   ]
  },
  {
   "cell_type": "code",
   "execution_count": null,
   "id": "294cc83e-ad8e-4451-90a9-877f39097c63",
   "metadata": {
    "tags": []
   },
   "outputs": [],
   "source": [
    "cluster.shutdown()"
   ]
  },
  {
   "cell_type": "markdown",
   "id": "a3a84a45-7d68-4be0-8b13-28aca2a0a122",
   "metadata": {},
   "source": [
    "## Visualize yearly mean"
   ]
  },
  {
   "cell_type": "markdown",
   "id": "e0c6ffba-439e-476f-90c1-0aa9c80de95b",
   "metadata": {},
   "source": [
    "Read county shapefile, combo of state FIPS code and county FIPS code as multi-index"
   ]
  },
  {
   "cell_type": "code",
   "execution_count": null,
   "id": "363a3740-7197-4388-b7e0-1a432ea6345f",
   "metadata": {
    "tags": []
   },
   "outputs": [],
   "source": [
    "import geopandas as gpd\n",
    "import hvplot.pandas\n",
    "\n",
    "counties = gpd.read_file(\n",
    "    \"https://www2.census.gov/geo/tiger/GENZ2022/shp/cb_2022_us_county_20m.zip\"\n",
    ").to_crs(\"EPSG:3395\")\n",
    "counties[\"STATEFP\"] = counties.STATEFP.astype(int)\n",
    "counties[\"COUNTYFP\"] = counties.COUNTYFP.astype(int)\n",
    "continental = counties.loc[~counties[\"STATEFP\"].isin([2, 15, 72])]\n",
    "continental = continental.set_index([\"STATEFP\", \"COUNTYFP\"])"
   ]
  },
  {
   "cell_type": "markdown",
   "id": "1ee638f3-2afa-4c2b-93ff-b03719c2ff68",
   "metadata": {},
   "source": [
    "Interpret `county` as combo of state FIPS code and county FIPS code. Set multi-index"
   ]
  },
  {
   "cell_type": "code",
   "execution_count": null,
   "id": "186edb79-06ac-4207-b3d8-251b39254211",
   "metadata": {
    "tags": []
   },
   "outputs": [],
   "source": [
    "yearly_mean = county_mean.mean(\"time\")\n",
    "yearly_mean.coords[\"STATEFP\"] = (yearly_mean.county // 1000).astype(int)\n",
    "yearly_mean.coords[\"COUNTYFP\"] = np.mod(yearly_mean.county, 1000).astype(int)\n",
    "yearly_mean = yearly_mean.drop_vars(\"county\").set_index(county=[\"STATEFP\", \"COUNTYFP\"])\n",
    "yearly_mean"
   ]
  },
  {
   "cell_type": "markdown",
   "id": "5a4551c1-4a0e-472c-bca7-1cc385e5d9e7",
   "metadata": {},
   "source": [
    "Join"
   ]
  },
  {
   "cell_type": "code",
   "execution_count": null,
   "id": "5bc6eb98-baca-4b77-9072-49a3646f257c",
   "metadata": {
    "tags": []
   },
   "outputs": [],
   "source": [
    "continental[\"zwattablrt\"] = yearly_mean.to_dataframe()[\"zwattablrt\"]"
   ]
  },
  {
   "cell_type": "markdown",
   "id": "a07d98d2-a207-4dc4-bf22-da732d41d445",
   "metadata": {},
   "source": [
    "Plot"
   ]
  },
  {
   "cell_type": "code",
   "execution_count": null,
   "id": "3eb9d79c-2b9f-45a9-b35d-aff0b288a91e",
   "metadata": {
    "tags": []
   },
   "outputs": [],
   "source": [
    "continental.hvplot(c=\"zwattablrt\")"
   ]
  },
  {
   "cell_type": "markdown",
   "id": "0e6175fb-299c-429c-8139-e67526d75291",
   "metadata": {},
   "source": [
    "## Summary\n",
    "\n",
    "[flox](https://flox.readthedocs.io) makes many large Groupby problems tractable! Use it.\n",
    "\n",
    "\n",
    "[flox](https://flox.readthedocs.io) also makes many small but more complicated (e.g. multiple variables) Groupby problems tractable! Use it.\n",
    "\n",
    "We [anticipate](https://github.com/pydata/xarray/issues/6610) upgrading Xarray's interface to enable more complicated GroupBy computations. In the mean time, use flox!"
   ]
  }
 ],
 "metadata": {
  "kernelspec": {
   "display_name": "Python [conda env:nwm]",
   "language": "python",
   "name": "conda-env-nwm-py"
  },
  "language_info": {
   "codemirror_mode": {
    "name": "ipython",
    "version": 3
   },
   "file_extension": ".py",
   "mimetype": "text/x-python",
   "name": "python",
   "nbconvert_exporter": "python",
   "pygments_lexer": "ipython3",
   "version": "3.11.4"
  },
  "widgets": {
   "application/vnd.jupyter.widget-state+json": {
    "state": {
     "199f9811c5ed43c69964e3c1cece73b6": {
      "model_module": "@jupyter-widgets/output",
      "model_module_version": "1.0.0",
      "model_name": "OutputModel",
      "state": {
       "layout": "IPY_MODEL_7d289988ba5948bf9edaeef66209b2d6",
       "outputs": [
        {
         "data": {
          "text/html": "<pre style=\"white-space:pre;overflow-x:auto;line-height:normal;font-family:Menlo,'DejaVu Sans Mono',consolas,'Courier New',monospace\">╭────────────────────────────────────────── <span style=\"color: #008000; text-decoration-color: #008000\">Package Sync</span> ──────────────────────────────────────────╮\n│ Fetching latest package priorities <span style=\"color: #729c1f; text-decoration-color: #729c1f\">━━━━━━━━━━━━━━━━━━━━━━━━━━━━━━━━━━━━━━━━</span> <span style=\"color: #808000; text-decoration-color: #808000\">0:00:00</span>              │\n│ Scanning 373 conda packages        <span style=\"color: #729c1f; text-decoration-color: #729c1f\">━━━━━━━━━━━━━━━━━━━━━━━━━━━━━━━━━━━━━━━━</span> <span style=\"color: #808000; text-decoration-color: #808000\">0:00:00</span>              │\n│ Scanning 235 python packages       <span style=\"color: #729c1f; text-decoration-color: #729c1f\">━━━━━━━━━━━━━━━━━━━━━━━━━━━━━━━━━━━━━━━━</span> <span style=\"color: #808000; text-decoration-color: #808000\">0:00:00</span>              │\n│ Running pip check                  <span style=\"color: #729c1f; text-decoration-color: #729c1f\">━━━━━━━━━━━━━━━━━━━━━━━━━━━━━━━━━━━━━━━━</span> <span style=\"color: #808000; text-decoration-color: #808000\">0:00:04</span>              │\n│ Validating environment             <span style=\"color: #3a3a3a; text-decoration-color: #3a3a3a\">━━━━━━━━━━━━━━━━━━━━━━━━━━━━━━━━━━━━━━━━</span> <span style=\"color: #808000; text-decoration-color: #808000\">0:00:01</span>              │\n╰──────────────────────────────────────────────────────────────────────────────────────────────────╯\n</pre>\n",
          "text/plain": "╭────────────────────────────────────────── \u001b[32mPackage Sync\u001b[0m ──────────────────────────────────────────╮\n│ Fetching latest package priorities \u001b[38;2;114;156;31m━━━━━━━━━━━━━━━━━━━━━━━━━━━━━━━━━━━━━━━━\u001b[0m \u001b[33m0:00:00\u001b[0m              │\n│ Scanning 373 conda packages        \u001b[38;2;114;156;31m━━━━━━━━━━━━━━━━━━━━━━━━━━━━━━━━━━━━━━━━\u001b[0m \u001b[33m0:00:00\u001b[0m              │\n│ Scanning 235 python packages       \u001b[38;2;114;156;31m━━━━━━━━━━━━━━━━━━━━━━━━━━━━━━━━━━━━━━━━\u001b[0m \u001b[33m0:00:00\u001b[0m              │\n│ Running pip check                  \u001b[38;2;114;156;31m━━━━━━━━━━━━━━━━━━━━━━━━━━━━━━━━━━━━━━━━\u001b[0m \u001b[33m0:00:04\u001b[0m              │\n│ Validating environment             \u001b[38;5;237m━━━━━━━━━━━━━━━━━━━━━━━━━━━━━━━━━━━━━━━━\u001b[0m \u001b[33m0:00:01\u001b[0m              │\n╰──────────────────────────────────────────────────────────────────────────────────────────────────╯\n"
         },
         "metadata": {},
         "output_type": "display_data"
        }
       ]
      }
     },
     "42e0a1089d2a41b1ac433081f3c4d3ca": {
      "model_module": "@jupyter-widgets/output",
      "model_module_version": "1.0.0",
      "model_name": "OutputModel",
      "state": {
       "layout": "IPY_MODEL_8708471b1db94b0d84eda7a185fddff7",
       "outputs": [
        {
         "data": {
          "text/html": "<pre style=\"white-space:pre;overflow-x:auto;line-height:normal;font-family:Menlo,'DejaVu Sans Mono',consolas,'Courier New',monospace\">╭───────────────────────────────────────── <span style=\"color: #008000; text-decoration-color: #008000; font-weight: bold\">Coiled Cluster</span> ─────────────────────────────────────────╮\n│                       <a href=\"https://cloud.coiled.io/clusters/239147?account=dask\" target=\"_blank\">https://cloud.coiled.io/clusters/239147?account=dask</a>                       │\n╰──────────────────────────────────────────────────────────────────────────────────────────────────╯\n╭─────────────────── Overview ───────────────────╮╭──────────────── Configuration ─────────────────╮\n│                                                ││                                                │\n│ <span style=\"color: #008000; text-decoration-color: #008000; font-weight: bold\">Cluster Name:</span> dask-53f3e3fb-2                  ││ <span style=\"color: #008000; text-decoration-color: #008000; font-weight: bold\">Region:</span> us-east-1                              │\n│                                                ││                                                │\n│ <span style=\"color: #008000; text-decoration-color: #008000; font-weight: bold\">Scheduler Status:</span> started                      ││ <span style=\"color: #008000; text-decoration-color: #008000; font-weight: bold\">Scheduler Instance Type:</span> m6i.xlarge            │\n│                                                ││                                                │\n│ <span style=\"color: #008000; text-decoration-color: #008000; font-weight: bold\">Dashboard Address:</span>                             ││ <span style=\"color: #008000; text-decoration-color: #008000; font-weight: bold\">Worker Instance Type(s):</span> m6i.xlarge (2)        │\n│ <a href=\"https://cluster-rrxia.dask.host?token=XfcS_VqtMnjhf1mW\" target=\"_blank\">https://cluster-rrxia.dask.host?token=XfcS_Vqt</a> ││                                                │\n│ <a href=\"https://cluster-rrxia.dask.host?token=XfcS_VqtMnjhf1mW\" target=\"_blank\">Mnjhf1mW</a>                                       ││ <span style=\"color: #008000; text-decoration-color: #008000; font-weight: bold\">Workers Requested:</span> 2                           │\n│                                                ││                                                │\n╰────────────────────────────────────────────────╯╰────────────────────────────────────────────────╯\n╭─────────────────────────────────── (2023/07/03 16:42:08 MDT) ────────────────────────────────────╮\n│                                                                                                  │\n│                                        All workers ready.                                        │\n│                                                                                                  │\n│                                                                                                  │\n╰──────────────────────────────────────────────────────────────────────────────────────────────────╯\n\n\n\n</pre>\n",
          "text/plain": "╭───────────────────────────────────────── \u001b[1;51;32mCoiled Cluster\u001b[0m ─────────────────────────────────────────╮\n│                       \u001b]8;id=183439;https://cloud.coiled.io/clusters/239147?account=dask\u001b\\https://cloud.coiled.io/clusters/239147?account=dask\u001b]8;;\u001b\\                       │\n╰──────────────────────────────────────────────────────────────────────────────────────────────────╯\n╭─────────────────── Overview ───────────────────╮╭──────────────── Configuration ─────────────────╮\n│                                                ││                                                │\n│ \u001b[1;32mCluster Name:\u001b[0m dask-53f3e3fb-2                  ││ \u001b[1;32mRegion:\u001b[0m us-east-1                              │\n│                                                ││                                                │\n│ \u001b[1;32mScheduler Status:\u001b[0m started                      ││ \u001b[1;32mScheduler Instance Type:\u001b[0m m6i.xlarge            │\n│                                                ││                                                │\n│ \u001b[1;32mDashboard Address:\u001b[0m                             ││ \u001b[1;32mWorker Instance Type(s):\u001b[0m m6i.xlarge (2)        │\n│ \u001b]8;id=80430;https://cluster-rrxia.dask.host?token=XfcS_VqtMnjhf1mW\u001b\\https://cluster-rrxia.dask.host?token=XfcS_Vqt\u001b]8;;\u001b\\ ││                                                │\n│ \u001b]8;id=80430;https://cluster-rrxia.dask.host?token=XfcS_VqtMnjhf1mW\u001b\\Mnjhf1mW\u001b]8;;\u001b\\                                       ││ \u001b[1;32mWorkers Requested:\u001b[0m 2                           │\n│                                                ││                                                │\n╰────────────────────────────────────────────────╯╰────────────────────────────────────────────────╯\n╭─────────────────────────────────── (2023/07/03 16:42:08 MDT) ────────────────────────────────────╮\n│                                                                                                  │\n│                                        All workers ready.                                        │\n│                                                                                                  │\n│                                                                                                  │\n╰──────────────────────────────────────────────────────────────────────────────────────────────────╯\n\n\n\n"
         },
         "metadata": {},
         "output_type": "display_data"
        }
       ]
      }
     },
     "7d289988ba5948bf9edaeef66209b2d6": {
      "model_module": "@jupyter-widgets/base",
      "model_module_version": "2.0.0",
      "model_name": "LayoutModel",
      "state": {}
     },
     "8708471b1db94b0d84eda7a185fddff7": {
      "model_module": "@jupyter-widgets/base",
      "model_module_version": "2.0.0",
      "model_name": "LayoutModel",
      "state": {}
     }
    },
    "version_major": 2,
    "version_minor": 0
   }
  }
 },
 "nbformat": 4,
 "nbformat_minor": 5
}
